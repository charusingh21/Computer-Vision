{
  "nbformat": 4,
  "nbformat_minor": 0,
  "metadata": {
    "accelerator": "GPU",
    "colab": {
      "name": "CV_HW5_FCN32_final.ipynb",
      "provenance": [],
      "collapsed_sections": [],
      "toc_visible": true
    },
    "kernelspec": {
      "display_name": "Python 3",
      "language": "python",
      "name": "python3"
    },
    "language_info": {
      "codemirror_mode": {
        "name": "ipython",
        "version": 3
      },
      "file_extension": ".py",
      "mimetype": "text/x-python",
      "name": "python",
      "nbconvert_exporter": "python",
      "pygments_lexer": "ipython3",
      "version": "3.7.9"
    },
    "widgets": {
      "application/vnd.jupyter.widget-state+json": {
        "ffed63bf66de4a2f8d9529f9e3f05500": {
          "model_module": "@jupyter-widgets/controls",
          "model_name": "HBoxModel",
          "state": {
            "_view_name": "HBoxView",
            "_dom_classes": [],
            "_model_name": "HBoxModel",
            "_view_module": "@jupyter-widgets/controls",
            "_model_module_version": "1.5.0",
            "_view_count": null,
            "_view_module_version": "1.5.0",
            "box_style": "",
            "layout": "IPY_MODEL_ba036363db744191952c099cb7a2fc26",
            "_model_module": "@jupyter-widgets/controls",
            "children": [
              "IPY_MODEL_c8142819d6a64209a1c29b9a49bed81d",
              "IPY_MODEL_b8b43f3b5abd4a2985314ba03a0741b6"
            ]
          }
        },
        "ba036363db744191952c099cb7a2fc26": {
          "model_module": "@jupyter-widgets/base",
          "model_name": "LayoutModel",
          "state": {
            "_view_name": "LayoutView",
            "grid_template_rows": null,
            "right": null,
            "justify_content": null,
            "_view_module": "@jupyter-widgets/base",
            "overflow": null,
            "_model_module_version": "1.2.0",
            "_view_count": null,
            "flex_flow": null,
            "width": null,
            "min_width": null,
            "border": null,
            "align_items": null,
            "bottom": null,
            "_model_module": "@jupyter-widgets/base",
            "top": null,
            "grid_column": null,
            "overflow_y": null,
            "overflow_x": null,
            "grid_auto_flow": null,
            "grid_area": null,
            "grid_template_columns": null,
            "flex": null,
            "_model_name": "LayoutModel",
            "justify_items": null,
            "grid_row": null,
            "max_height": null,
            "align_content": null,
            "visibility": null,
            "align_self": null,
            "height": null,
            "min_height": null,
            "padding": null,
            "grid_auto_rows": null,
            "grid_gap": null,
            "max_width": null,
            "order": null,
            "_view_module_version": "1.2.0",
            "grid_template_areas": null,
            "object_position": null,
            "object_fit": null,
            "grid_auto_columns": null,
            "margin": null,
            "display": null,
            "left": null
          }
        },
        "c8142819d6a64209a1c29b9a49bed81d": {
          "model_module": "@jupyter-widgets/controls",
          "model_name": "FloatProgressModel",
          "state": {
            "_view_name": "ProgressView",
            "style": "IPY_MODEL_d031d7f0c2874222b92014a3948347cd",
            "_dom_classes": [],
            "description": "100%",
            "_model_name": "FloatProgressModel",
            "bar_style": "success",
            "max": 553433881,
            "_view_module": "@jupyter-widgets/controls",
            "_model_module_version": "1.5.0",
            "value": 553433881,
            "_view_count": null,
            "_view_module_version": "1.5.0",
            "orientation": "horizontal",
            "min": 0,
            "description_tooltip": null,
            "_model_module": "@jupyter-widgets/controls",
            "layout": "IPY_MODEL_a316d16537634f228ac70d7189b27d58"
          }
        },
        "b8b43f3b5abd4a2985314ba03a0741b6": {
          "model_module": "@jupyter-widgets/controls",
          "model_name": "HTMLModel",
          "state": {
            "_view_name": "HTMLView",
            "style": "IPY_MODEL_e1b423f09f284af581f38804fd4cdd6b",
            "_dom_classes": [],
            "description": "",
            "_model_name": "HTMLModel",
            "placeholder": "​",
            "_view_module": "@jupyter-widgets/controls",
            "_model_module_version": "1.5.0",
            "value": " 528M/528M [04:29&lt;00:00, 2.06MB/s]",
            "_view_count": null,
            "_view_module_version": "1.5.0",
            "description_tooltip": null,
            "_model_module": "@jupyter-widgets/controls",
            "layout": "IPY_MODEL_4fa93b0a1da84d9ca0cd9aaadfc768c1"
          }
        },
        "d031d7f0c2874222b92014a3948347cd": {
          "model_module": "@jupyter-widgets/controls",
          "model_name": "ProgressStyleModel",
          "state": {
            "_view_name": "StyleView",
            "_model_name": "ProgressStyleModel",
            "description_width": "initial",
            "_view_module": "@jupyter-widgets/base",
            "_model_module_version": "1.5.0",
            "_view_count": null,
            "_view_module_version": "1.2.0",
            "bar_color": null,
            "_model_module": "@jupyter-widgets/controls"
          }
        },
        "a316d16537634f228ac70d7189b27d58": {
          "model_module": "@jupyter-widgets/base",
          "model_name": "LayoutModel",
          "state": {
            "_view_name": "LayoutView",
            "grid_template_rows": null,
            "right": null,
            "justify_content": null,
            "_view_module": "@jupyter-widgets/base",
            "overflow": null,
            "_model_module_version": "1.2.0",
            "_view_count": null,
            "flex_flow": null,
            "width": null,
            "min_width": null,
            "border": null,
            "align_items": null,
            "bottom": null,
            "_model_module": "@jupyter-widgets/base",
            "top": null,
            "grid_column": null,
            "overflow_y": null,
            "overflow_x": null,
            "grid_auto_flow": null,
            "grid_area": null,
            "grid_template_columns": null,
            "flex": null,
            "_model_name": "LayoutModel",
            "justify_items": null,
            "grid_row": null,
            "max_height": null,
            "align_content": null,
            "visibility": null,
            "align_self": null,
            "height": null,
            "min_height": null,
            "padding": null,
            "grid_auto_rows": null,
            "grid_gap": null,
            "max_width": null,
            "order": null,
            "_view_module_version": "1.2.0",
            "grid_template_areas": null,
            "object_position": null,
            "object_fit": null,
            "grid_auto_columns": null,
            "margin": null,
            "display": null,
            "left": null
          }
        },
        "e1b423f09f284af581f38804fd4cdd6b": {
          "model_module": "@jupyter-widgets/controls",
          "model_name": "DescriptionStyleModel",
          "state": {
            "_view_name": "StyleView",
            "_model_name": "DescriptionStyleModel",
            "description_width": "",
            "_view_module": "@jupyter-widgets/base",
            "_model_module_version": "1.5.0",
            "_view_count": null,
            "_view_module_version": "1.2.0",
            "_model_module": "@jupyter-widgets/controls"
          }
        },
        "4fa93b0a1da84d9ca0cd9aaadfc768c1": {
          "model_module": "@jupyter-widgets/base",
          "model_name": "LayoutModel",
          "state": {
            "_view_name": "LayoutView",
            "grid_template_rows": null,
            "right": null,
            "justify_content": null,
            "_view_module": "@jupyter-widgets/base",
            "overflow": null,
            "_model_module_version": "1.2.0",
            "_view_count": null,
            "flex_flow": null,
            "width": null,
            "min_width": null,
            "border": null,
            "align_items": null,
            "bottom": null,
            "_model_module": "@jupyter-widgets/base",
            "top": null,
            "grid_column": null,
            "overflow_y": null,
            "overflow_x": null,
            "grid_auto_flow": null,
            "grid_area": null,
            "grid_template_columns": null,
            "flex": null,
            "_model_name": "LayoutModel",
            "justify_items": null,
            "grid_row": null,
            "max_height": null,
            "align_content": null,
            "visibility": null,
            "align_self": null,
            "height": null,
            "min_height": null,
            "padding": null,
            "grid_auto_rows": null,
            "grid_gap": null,
            "max_width": null,
            "order": null,
            "_view_module_version": "1.2.0",
            "grid_template_areas": null,
            "object_position": null,
            "object_fit": null,
            "grid_auto_columns": null,
            "margin": null,
            "display": null,
            "left": null
          }
        }
      }
    }
  },
  "cells": [
    {
      "cell_type": "code",
      "metadata": {
        "id": "ni2CNDO7oH58"
      },
      "source": [
        "import torch\n",
        "import torch.nn.functional as F\n",
        "from torchvision import datasets,transforms, models\n",
        "from torch import nn\n",
        "import matplotlib.pyplot as plt\n",
        "import numpy as np\n",
        "from sklearn.metrics import confusion_matrix\n",
        "from torch.utils.data import Dataset, DataLoader\n",
        "from natsort import natsorted\n",
        "from PIL import Image\n",
        "import os\n",
        "from sklearn.metrics import jaccard_score as jsc"
      ],
      "execution_count": 1,
      "outputs": []
    },
    {
      "cell_type": "code",
      "metadata": {
        "id": "aKlnrMDNjLHc",
        "outputId": "b218e35c-2162-4aba-d8f4-b97a94ca684d",
        "colab": {
          "base_uri": "https://localhost:8080/"
        }
      },
      "source": [
        "from google.colab import drive\n",
        "drive.mount('/content/drive')"
      ],
      "execution_count": 2,
      "outputs": [
        {
          "output_type": "stream",
          "text": [
            "Mounted at /content/drive\n"
          ],
          "name": "stdout"
        }
      ]
    },
    {
      "cell_type": "code",
      "metadata": {
        "id": "wyWe6FGfoH6C",
        "outputId": "cf30e116-6b95-4250-a775-0776f7ac15ed",
        "colab": {
          "base_uri": "https://localhost:8080/",
          "height": 84,
          "referenced_widgets": [
            "ffed63bf66de4a2f8d9529f9e3f05500",
            "ba036363db744191952c099cb7a2fc26",
            "c8142819d6a64209a1c29b9a49bed81d",
            "b8b43f3b5abd4a2985314ba03a0741b6",
            "d031d7f0c2874222b92014a3948347cd",
            "a316d16537634f228ac70d7189b27d58",
            "e1b423f09f284af581f38804fd4cdd6b",
            "4fa93b0a1da84d9ca0cd9aaadfc768c1"
          ]
        }
      },
      "source": [
        "device = torch.device(\"cuda:0\" if torch.cuda.is_available() else \"cpu\")\n",
        "main_dir = './drive/My Drive/hw5/training/image_2'\n",
        "label_dir = './drive/My Drive/hw5/training/semantic'\n",
        "\n",
        "pretrained_model = models.vgg16(pretrained = True)\n",
        "features = list(pretrained_model.features.children())\n",
        "features[0].padding=(100,100)"
      ],
      "execution_count": 4,
      "outputs": [
        {
          "output_type": "stream",
          "text": [
            "Downloading: \"https://download.pytorch.org/models/vgg16-397923af.pth\" to /root/.cache/torch/hub/checkpoints/vgg16-397923af.pth\n"
          ],
          "name": "stderr"
        },
        {
          "output_type": "display_data",
          "data": {
            "application/vnd.jupyter.widget-view+json": {
              "model_id": "ffed63bf66de4a2f8d9529f9e3f05500",
              "version_minor": 0,
              "version_major": 2
            },
            "text/plain": [
              "HBox(children=(FloatProgress(value=0.0, max=553433881.0), HTML(value='')))"
            ]
          },
          "metadata": {
            "tags": []
          }
        },
        {
          "output_type": "stream",
          "text": [
            "\n"
          ],
          "name": "stdout"
        }
      ]
    },
    {
      "cell_type": "code",
      "metadata": {
        "id": "pVN0_wqioH6F"
      },
      "source": [
        "class FCN32(nn.Module):\n",
        "    def __init__(self):\n",
        "        super(FCN32,self).__init__()\n",
        "        self.features_map=nn.Sequential(*features)\n",
        "        self.conv=nn.Sequential(nn.Conv2d(512,4096,7),\n",
        "                                nn.ReLU(inplace=True),\n",
        "                                nn.Dropout(),\n",
        "                                nn.Conv2d(4096,4096,1),\n",
        "                                nn.ReLU(inplace=True),\n",
        "                                nn.Dropout()\n",
        "                                )\n",
        "        self.score_fr=nn.Conv2d(4096,35,1)\n",
        "        self.upscore=nn.ConvTranspose2d(35,35,64,32, bias = False)\n",
        "        \n",
        "    def forward(self,x):\n",
        "        x_size=x.size()\n",
        "        pool=self.conv(self.features_map(x))\n",
        "        score_fr=self.score_fr(pool)\n",
        "        upscore=self.upscore(score_fr)\n",
        "        return upscore[:,:,19:(19+x_size[2]),19:(19+x_size[3])].contiguous()\n",
        "        \n",
        "        \n",
        "        "
      ],
      "execution_count": 5,
      "outputs": []
    },
    {
      "cell_type": "code",
      "metadata": {
        "id": "F45oQnBOAdVA"
      },
      "source": [
        ""
      ],
      "execution_count": null,
      "outputs": []
    },
    {
      "cell_type": "code",
      "metadata": {
        "id": "OcxpDAzKoH6I"
      },
      "source": [
        "class KittyDataset(Dataset):\n",
        "    def __init__(self, main_dir, label_dir, transform):\n",
        "        self.main_dir = main_dir\n",
        "        self.label_dir = label_dir\n",
        "        self.transform = transform\n",
        "        all_imgs = os.listdir(main_dir)\n",
        "        all_imgs_label = os.listdir(label_dir)\n",
        "        self.total_imgs = natsorted(all_imgs)\n",
        "        self.total_imgs_label = natsorted(all_imgs_label)\n",
        "        \n",
        "    def __len__(self):\n",
        "        return len(self.total_imgs)\n",
        "    \n",
        "    def __getitem__(self, idx):\n",
        "        img_loc = os.path.join(self.main_dir, self.total_imgs[idx])\n",
        "        img_loc_label = os.path.join(self.label_dir, self.total_imgs_label[idx] )\n",
        "        image = Image.open(img_loc).convert('RGB')\n",
        "        labels = Image.open(img_loc_label).convert('P')\n",
        "        tensor_image = self.transform(image)\n",
        "        tensor_label = self.transform(labels)\n",
        "        return (tensor_image, (tensor_label*255).type(torch.LongTensor))"
      ],
      "execution_count": 6,
      "outputs": []
    },
    {
      "cell_type": "code",
      "metadata": {
        "id": "acdO4ClCoH6L"
      },
      "source": [
        "transform = transforms.Compose([transforms.Resize((256,1024)),\n",
        "                                transforms.ToTensor()])\n",
        "\n",
        "# label_transform=transforms.Compose([transforms.Resize(224),\n",
        "#                         ToLabel(),\n",
        "#                         Relabel(255,0),\n",
        "# ])\n",
        "\n",
        "train_data = KittyDataset(main_dir, label_dir, transform)\n",
        "\n",
        "length_train=int(0.7*len(train_data))\n",
        "length_val= int(0.15*len(train_data))\n",
        "length_test = len(train_data) - length_train - length_val\n",
        "\n",
        "train, val, test = torch.utils.data.random_split(train_data, [length_train, length_val, length_test])\n",
        "\n",
        "\n",
        "training_loader = torch.utils.data.DataLoader(train, batch_size=1, shuffle=False)\n",
        "validation_loader = torch.utils.data.DataLoader(val, batch_size = 1, shuffle=False)\n",
        "test_loader = torch.utils.data.DataLoader(test, batch_size = 1, shuffle = False)"
      ],
      "execution_count": 7,
      "outputs": []
    },
    {
      "cell_type": "code",
      "metadata": {
        "id": "iHjhBkEpKcwC",
        "outputId": "5504a985-d396-471c-fd90-b8463b5993a4",
        "colab": {
          "base_uri": "https://localhost:8080/"
        }
      },
      "source": [
        "for image, labels in training_loader:\n",
        "  print(image.size(), labels.size())\n",
        "  break"
      ],
      "execution_count": 8,
      "outputs": [
        {
          "output_type": "stream",
          "text": [
            "torch.Size([1, 3, 256, 1024]) torch.Size([1, 1, 256, 1024])\n"
          ],
          "name": "stdout"
        }
      ]
    },
    {
      "cell_type": "code",
      "metadata": {
        "id": "ltHFT5avoH6N",
        "outputId": "7946046c-b8bb-487f-ee7a-fe6058bb9105",
        "colab": {
          "base_uri": "https://localhost:8080/"
        }
      },
      "source": [
        "model = FCN32().to(device)\n",
        "model"
      ],
      "execution_count": 9,
      "outputs": [
        {
          "output_type": "execute_result",
          "data": {
            "text/plain": [
              "FCN32(\n",
              "  (features_map): Sequential(\n",
              "    (0): Conv2d(3, 64, kernel_size=(3, 3), stride=(1, 1), padding=(100, 100))\n",
              "    (1): ReLU(inplace=True)\n",
              "    (2): Conv2d(64, 64, kernel_size=(3, 3), stride=(1, 1), padding=(1, 1))\n",
              "    (3): ReLU(inplace=True)\n",
              "    (4): MaxPool2d(kernel_size=2, stride=2, padding=0, dilation=1, ceil_mode=False)\n",
              "    (5): Conv2d(64, 128, kernel_size=(3, 3), stride=(1, 1), padding=(1, 1))\n",
              "    (6): ReLU(inplace=True)\n",
              "    (7): Conv2d(128, 128, kernel_size=(3, 3), stride=(1, 1), padding=(1, 1))\n",
              "    (8): ReLU(inplace=True)\n",
              "    (9): MaxPool2d(kernel_size=2, stride=2, padding=0, dilation=1, ceil_mode=False)\n",
              "    (10): Conv2d(128, 256, kernel_size=(3, 3), stride=(1, 1), padding=(1, 1))\n",
              "    (11): ReLU(inplace=True)\n",
              "    (12): Conv2d(256, 256, kernel_size=(3, 3), stride=(1, 1), padding=(1, 1))\n",
              "    (13): ReLU(inplace=True)\n",
              "    (14): Conv2d(256, 256, kernel_size=(3, 3), stride=(1, 1), padding=(1, 1))\n",
              "    (15): ReLU(inplace=True)\n",
              "    (16): MaxPool2d(kernel_size=2, stride=2, padding=0, dilation=1, ceil_mode=False)\n",
              "    (17): Conv2d(256, 512, kernel_size=(3, 3), stride=(1, 1), padding=(1, 1))\n",
              "    (18): ReLU(inplace=True)\n",
              "    (19): Conv2d(512, 512, kernel_size=(3, 3), stride=(1, 1), padding=(1, 1))\n",
              "    (20): ReLU(inplace=True)\n",
              "    (21): Conv2d(512, 512, kernel_size=(3, 3), stride=(1, 1), padding=(1, 1))\n",
              "    (22): ReLU(inplace=True)\n",
              "    (23): MaxPool2d(kernel_size=2, stride=2, padding=0, dilation=1, ceil_mode=False)\n",
              "    (24): Conv2d(512, 512, kernel_size=(3, 3), stride=(1, 1), padding=(1, 1))\n",
              "    (25): ReLU(inplace=True)\n",
              "    (26): Conv2d(512, 512, kernel_size=(3, 3), stride=(1, 1), padding=(1, 1))\n",
              "    (27): ReLU(inplace=True)\n",
              "    (28): Conv2d(512, 512, kernel_size=(3, 3), stride=(1, 1), padding=(1, 1))\n",
              "    (29): ReLU(inplace=True)\n",
              "    (30): MaxPool2d(kernel_size=2, stride=2, padding=0, dilation=1, ceil_mode=False)\n",
              "  )\n",
              "  (conv): Sequential(\n",
              "    (0): Conv2d(512, 4096, kernel_size=(7, 7), stride=(1, 1))\n",
              "    (1): ReLU(inplace=True)\n",
              "    (2): Dropout(p=0.5, inplace=False)\n",
              "    (3): Conv2d(4096, 4096, kernel_size=(1, 1), stride=(1, 1))\n",
              "    (4): ReLU(inplace=True)\n",
              "    (5): Dropout(p=0.5, inplace=False)\n",
              "  )\n",
              "  (score_fr): Conv2d(4096, 35, kernel_size=(1, 1), stride=(1, 1))\n",
              "  (upscore): ConvTranspose2d(35, 35, kernel_size=(64, 64), stride=(32, 32), bias=False)\n",
              ")"
            ]
          },
          "metadata": {
            "tags": []
          },
          "execution_count": 9
        }
      ]
    },
    {
      "cell_type": "code",
      "metadata": {
        "id": "Dx7Q9CVUoH6Q"
      },
      "source": [
        "criterion = nn.CrossEntropyLoss()\n",
        "optimizer = torch.optim.SGD(model.parameters(), lr = 0.001, momentum = 0.99) # fine tuned the lr"
      ],
      "execution_count": 10,
      "outputs": []
    },
    {
      "cell_type": "code",
      "metadata": {
        "id": "J7qZBzz1oH6U",
        "outputId": "c3392bb1-6575-4c0f-e3df-7adfd3fe256c",
        "colab": {
          "base_uri": "https://localhost:8080/",
          "height": 1000
        }
      },
      "source": [
        "epochs = 100\n",
        "running_loss_history = []\n",
        "val_running_loss_history = []\n",
        "iou_val_micro_list = []\n",
        "iou_val_macro_list = []\n",
        "\n",
        "for e in range(epochs):\n",
        "    predlist=torch.zeros(0,dtype=torch.long, device='cpu')\n",
        "    labellist=torch.zeros(0,dtype=torch.long, device='cpu')\n",
        "\n",
        "    predlist_val=torch.zeros(0,dtype=torch.long, device='cpu')\n",
        "    labellist_val=torch.zeros(0,dtype=torch.long, device='cpu')\n",
        "    running_loss = 0.0\n",
        "    val_running_loss = 0.0\n",
        "    \n",
        "    \n",
        "    for inputs, labels in training_loader:\n",
        "        inputs = inputs.to(device)\n",
        "        labels = labels.to(device)\n",
        "        outputs = model(inputs)\n",
        "        loss = criterion(outputs, labels[:,0])\n",
        "        optimizer.zero_grad()\n",
        "        loss.backward()\n",
        "        optimizer.step()\n",
        "        running_loss += loss.item()\n",
        "        _,preds = torch.max(outputs, dim = 1)\n",
        "        predlist=torch.cat([predlist,preds.view(-1).cpu()])\n",
        "        labellist=torch.cat([labellist,labels.view(-1).cpu()])\n",
        "\n",
        "    \n",
        "\n",
        "    else:\n",
        "      with torch.no_grad(): # we do not need gradient for validation.\n",
        "        for val_inputs, val_labels in validation_loader:\n",
        "          val_inputs = val_inputs.to(device)\n",
        "          val_labels = val_labels.to(device)\n",
        "          val_outputs = model(val_inputs)\n",
        "          val_loss = criterion(val_outputs, val_labels[:,0])\n",
        "          \n",
        "          _, val_preds = torch.max(val_outputs, 1)\n",
        "          val_running_loss += val_loss.item()\n",
        "\n",
        "          predlist_val=torch.cat([predlist_val,val_preds.view(-1).cpu()])\n",
        "          labellist_val=torch.cat([labellist_val,val_labels.view(-1).cpu()])\n",
        "\n",
        "    lbl = predlist.cpu().numpy().reshape(-1)\n",
        "    target = labellist.cpu().numpy().reshape(-1)\n",
        "    iou_micro = jsc(target, lbl, average = 'micro' )\n",
        "    iou_macro = jsc(target, lbl, average = 'macro' )\n",
        "\n",
        "    epoch_loss = running_loss/len(training_loader)\n",
        "    running_loss_history.append(epoch_loss)\n",
        "    val_epoch_loss = val_running_loss/len(validation_loader)\n",
        "    val_running_loss_history.append(val_epoch_loss)\n",
        "\n",
        "\n",
        "    lbl_val = predlist_val.cpu().numpy().reshape(-1)\n",
        "    target_val = labellist_val.cpu().numpy().reshape(-1)\n",
        "    iou_val_micro = jsc(target_val, lbl_val, average = 'micro' )\n",
        "    iou_val_macro = jsc(target_val, lbl_val, average = 'macro' )\n",
        "    iou_val_macro_list.append(iou_val_macro)\n",
        "    iou_val_micro_list.append(iou_val_micro)\n",
        "\n",
        "    print('epoch :', (e+1))       \n",
        "    print('training loss: {:.4f}, training iou(macro): {:.4f}, training iou(micro): {:.4f}'.format(epoch_loss, iou_macro, iou_micro))\n",
        "    print('validation loss: {:.4f}, validation iou(macro): {:.4f}, validation iou(micro): {:.4f}'.format(val_epoch_loss, iou_val_macro, iou_val_micro))\n"
      ],
      "execution_count": 13,
      "outputs": [
        {
          "output_type": "stream",
          "text": [
            "epoch : 1\n",
            "training loss: 3.5549, training iou(macro): 0.0083, training iou(micro): 0.0253\n",
            "validation loss: 3.5544, validation iou(macro): 0.0105, validation iou(micro): 0.0424\n",
            "epoch : 2\n",
            "training loss: 3.4626, training iou(macro): 0.0145, training iou(micro): 0.1047\n",
            "validation loss: 2.5440, validation iou(macro): 0.0134, validation iou(micro): 0.1584\n",
            "epoch : 3\n",
            "training loss: 2.0361, training iou(macro): 0.0239, training iou(micro): 0.2608\n",
            "validation loss: 1.6548, validation iou(macro): 0.0468, validation iou(micro): 0.3449\n",
            "epoch : 4\n",
            "training loss: 1.6254, training iou(macro): 0.0476, training iou(micro): 0.3546\n",
            "validation loss: 1.4686, validation iou(macro): 0.0551, validation iou(micro): 0.3598\n",
            "epoch : 5\n",
            "training loss: 1.4610, training iou(macro): 0.0540, training iou(micro): 0.3839\n",
            "validation loss: 1.4505, validation iou(macro): 0.0663, validation iou(micro): 0.4159\n",
            "epoch : 6\n",
            "training loss: 1.4314, training iou(macro): 0.0628, training iou(micro): 0.4074\n",
            "validation loss: 1.3846, validation iou(macro): 0.0754, validation iou(micro): 0.4302\n",
            "epoch : 7\n",
            "training loss: 1.2655, training iou(macro): 0.0735, training iou(micro): 0.4505\n",
            "validation loss: 1.1551, validation iou(macro): 0.0924, validation iou(micro): 0.4860\n",
            "epoch : 8\n",
            "training loss: 1.1490, training iou(macro): 0.0927, training iou(micro): 0.5127\n",
            "validation loss: 1.0246, validation iou(macro): 0.1118, validation iou(micro): 0.5621\n",
            "epoch : 9\n",
            "training loss: 1.0283, training iou(macro): 0.1053, training iou(micro): 0.5586\n",
            "validation loss: 1.0267, validation iou(macro): 0.1146, validation iou(micro): 0.5642\n",
            "epoch : 10\n",
            "training loss: 0.9440, training iou(macro): 0.1147, training iou(micro): 0.5874\n",
            "validation loss: 0.8998, validation iou(macro): 0.1236, validation iou(micro): 0.6029\n",
            "epoch : 11\n",
            "training loss: 0.9017, training iou(macro): 0.1172, training iou(micro): 0.5962\n",
            "validation loss: 0.9598, validation iou(macro): 0.1205, validation iou(micro): 0.5904\n",
            "epoch : 12\n",
            "training loss: 0.9068, training iou(macro): 0.1178, training iou(micro): 0.5953\n",
            "validation loss: 0.8709, validation iou(macro): 0.1257, validation iou(micro): 0.6022\n",
            "epoch : 13\n",
            "training loss: 0.8597, training iou(macro): 0.1241, training iou(micro): 0.6196\n",
            "validation loss: 0.9387, validation iou(macro): 0.1297, validation iou(micro): 0.6180\n",
            "epoch : 14\n",
            "training loss: 0.8343, training iou(macro): 0.1256, training iou(micro): 0.6241\n",
            "validation loss: 0.8710, validation iou(macro): 0.1279, validation iou(micro): 0.6127\n",
            "epoch : 15\n",
            "training loss: 0.7706, training iou(macro): 0.1302, training iou(micro): 0.6398\n",
            "validation loss: 0.8049, validation iou(macro): 0.1333, validation iou(micro): 0.6360\n",
            "epoch : 16\n",
            "training loss: 0.7055, training iou(macro): 0.1370, training iou(micro): 0.6603\n",
            "validation loss: 0.7863, validation iou(macro): 0.1372, validation iou(micro): 0.6421\n",
            "epoch : 17\n",
            "training loss: 0.6825, training iou(macro): 0.1409, training iou(micro): 0.6669\n",
            "validation loss: 0.7507, validation iou(macro): 0.1392, validation iou(micro): 0.6518\n",
            "epoch : 18\n",
            "training loss: 0.6539, training iou(macro): 0.1444, training iou(micro): 0.6757\n",
            "validation loss: 0.7522, validation iou(macro): 0.1405, validation iou(micro): 0.6533\n",
            "epoch : 19\n",
            "training loss: 0.6453, training iou(macro): 0.1483, training iou(micro): 0.6774\n",
            "validation loss: 0.7631, validation iou(macro): 0.1425, validation iou(micro): 0.6544\n",
            "epoch : 20\n",
            "training loss: 0.6497, training iou(macro): 0.1497, training iou(micro): 0.6793\n",
            "validation loss: 0.7728, validation iou(macro): 0.1448, validation iou(micro): 0.6573\n",
            "epoch : 21\n",
            "training loss: 0.6313, training iou(macro): 0.1544, training iou(micro): 0.6862\n",
            "validation loss: 0.7348, validation iou(macro): 0.1493, validation iou(micro): 0.6710\n",
            "epoch : 22\n",
            "training loss: 0.6264, training iou(macro): 0.1592, training iou(micro): 0.6910\n",
            "validation loss: 0.7649, validation iou(macro): 0.1409, validation iou(micro): 0.6572\n",
            "epoch : 23\n",
            "training loss: 0.6232, training iou(macro): 0.1593, training iou(micro): 0.6913\n",
            "validation loss: 0.7384, validation iou(macro): 0.1502, validation iou(micro): 0.6665\n",
            "epoch : 24\n",
            "training loss: 0.6115, training iou(macro): 0.1592, training iou(micro): 0.6952\n",
            "validation loss: 0.7629, validation iou(macro): 0.1481, validation iou(micro): 0.6621\n",
            "epoch : 25\n",
            "training loss: 0.6048, training iou(macro): 0.1627, training iou(micro): 0.6963\n",
            "validation loss: 0.7041, validation iou(macro): 0.1558, validation iou(micro): 0.6670\n",
            "epoch : 26\n",
            "training loss: 0.5763, training iou(macro): 0.1700, training iou(micro): 0.7077\n",
            "validation loss: 0.6783, validation iou(macro): 0.1584, validation iou(micro): 0.6782\n",
            "epoch : 27\n",
            "training loss: 0.5601, training iou(macro): 0.1961, training iou(micro): 0.7181\n",
            "validation loss: 0.7005, validation iou(macro): 0.1510, validation iou(micro): 0.6725\n",
            "epoch : 28\n",
            "training loss: 0.5594, training iou(macro): 0.1903, training iou(micro): 0.7152\n",
            "validation loss: 0.6949, validation iou(macro): 0.1623, validation iou(micro): 0.6864\n",
            "epoch : 29\n",
            "training loss: 0.5519, training iou(macro): 0.1973, training iou(micro): 0.7139\n",
            "validation loss: 0.7051, validation iou(macro): 0.1555, validation iou(micro): 0.6793\n",
            "epoch : 30\n",
            "training loss: 0.5284, training iou(macro): 0.2327, training iou(micro): 0.7284\n",
            "validation loss: 0.6634, validation iou(macro): 0.1662, validation iou(micro): 0.6924\n",
            "epoch : 31\n",
            "training loss: 0.4963, training iou(macro): 0.2460, training iou(micro): 0.7413\n",
            "validation loss: 0.6827, validation iou(macro): 0.1663, validation iou(micro): 0.6896\n",
            "epoch : 32\n",
            "training loss: 0.5186, training iou(macro): 0.2602, training iou(micro): 0.7286\n",
            "validation loss: 0.6908, validation iou(macro): 0.1728, validation iou(micro): 0.6870\n",
            "epoch : 33\n",
            "training loss: 0.5246, training iou(macro): 0.2666, training iou(micro): 0.7273\n",
            "validation loss: 0.6798, validation iou(macro): 0.1736, validation iou(micro): 0.6821\n",
            "epoch : 34\n",
            "training loss: 0.5068, training iou(macro): 0.2623, training iou(micro): 0.7353\n",
            "validation loss: 0.6490, validation iou(macro): 0.1795, validation iou(micro): 0.6955\n",
            "epoch : 35\n",
            "training loss: 0.4730, training iou(macro): 0.2585, training iou(micro): 0.7502\n",
            "validation loss: 0.6198, validation iou(macro): 0.1842, validation iou(micro): 0.7046\n",
            "epoch : 36\n",
            "training loss: 0.4317, training iou(macro): 0.2850, training iou(micro): 0.7669\n",
            "validation loss: 0.6429, validation iou(macro): 0.1865, validation iou(micro): 0.7155\n",
            "epoch : 37\n",
            "training loss: 0.4086, training iou(macro): 0.2799, training iou(micro): 0.7764\n",
            "validation loss: 0.6448, validation iou(macro): 0.1886, validation iou(micro): 0.7090\n",
            "epoch : 38\n",
            "training loss: 0.3977, training iou(macro): 0.3011, training iou(micro): 0.7789\n",
            "validation loss: 0.6229, validation iou(macro): 0.1915, validation iou(micro): 0.7143\n",
            "epoch : 39\n",
            "training loss: 0.3916, training iou(macro): 0.3277, training iou(micro): 0.7822\n",
            "validation loss: 0.6637, validation iou(macro): 0.1901, validation iou(micro): 0.7064\n",
            "epoch : 40\n",
            "training loss: 0.3900, training iou(macro): 0.3005, training iou(micro): 0.7841\n",
            "validation loss: 0.6698, validation iou(macro): 0.1907, validation iou(micro): 0.6860\n",
            "epoch : 41\n",
            "training loss: 0.4194, training iou(macro): 0.3065, training iou(micro): 0.7705\n",
            "validation loss: 0.7130, validation iou(macro): 0.1871, validation iou(micro): 0.6740\n",
            "epoch : 42\n",
            "training loss: 0.4316, training iou(macro): 0.2910, training iou(micro): 0.7704\n",
            "validation loss: 0.7119, validation iou(macro): 0.1859, validation iou(micro): 0.6818\n",
            "epoch : 43\n",
            "training loss: 0.4588, training iou(macro): 0.3109, training iou(micro): 0.7566\n",
            "validation loss: 0.6731, validation iou(macro): 0.1854, validation iou(micro): 0.7034\n",
            "epoch : 44\n",
            "training loss: 0.4298, training iou(macro): 0.3342, training iou(micro): 0.7673\n",
            "validation loss: 0.7045, validation iou(macro): 0.1905, validation iou(micro): 0.7133\n",
            "epoch : 45\n",
            "training loss: 0.4034, training iou(macro): 0.3128, training iou(micro): 0.7788\n",
            "validation loss: 0.7031, validation iou(macro): 0.1919, validation iou(micro): 0.7100\n",
            "epoch : 46\n",
            "training loss: 0.3774, training iou(macro): 0.3539, training iou(micro): 0.7880\n",
            "validation loss: 0.6280, validation iou(macro): 0.1770, validation iou(micro): 0.7184\n",
            "epoch : 47\n",
            "training loss: 0.3595, training iou(macro): 0.3346, training iou(micro): 0.7956\n",
            "validation loss: 0.6245, validation iou(macro): 0.1898, validation iou(micro): 0.7235\n",
            "epoch : 48\n",
            "training loss: 0.3443, training iou(macro): 0.3641, training iou(micro): 0.8042\n",
            "validation loss: 0.6235, validation iou(macro): 0.1818, validation iou(micro): 0.7239\n",
            "epoch : 49\n",
            "training loss: 0.3317, training iou(macro): 0.3775, training iou(micro): 0.8096\n",
            "validation loss: 0.6390, validation iou(macro): 0.2138, validation iou(micro): 0.7293\n",
            "epoch : 50\n",
            "training loss: 0.3292, training iou(macro): 0.3784, training iou(micro): 0.8105\n",
            "validation loss: 0.6213, validation iou(macro): 0.1856, validation iou(micro): 0.7290\n",
            "epoch : 51\n",
            "training loss: 0.3298, training iou(macro): 0.3766, training iou(micro): 0.8124\n",
            "validation loss: 0.6217, validation iou(macro): 0.2104, validation iou(micro): 0.7263\n",
            "epoch : 52\n",
            "training loss: 0.3270, training iou(macro): 0.4035, training iou(micro): 0.8123\n",
            "validation loss: 0.6009, validation iou(macro): 0.2030, validation iou(micro): 0.7195\n",
            "epoch : 53\n",
            "training loss: 0.3351, training iou(macro): 0.4106, training iou(micro): 0.8071\n",
            "validation loss: 0.6257, validation iou(macro): 0.2019, validation iou(micro): 0.7147\n",
            "epoch : 54\n",
            "training loss: 0.3390, training iou(macro): 0.3729, training iou(micro): 0.8070\n",
            "validation loss: 0.7014, validation iou(macro): 0.1963, validation iou(micro): 0.6946\n",
            "epoch : 55\n",
            "training loss: 0.3432, training iou(macro): 0.4087, training iou(micro): 0.8042\n",
            "validation loss: 0.6443, validation iou(macro): 0.2049, validation iou(micro): 0.7105\n",
            "epoch : 56\n",
            "training loss: 0.3431, training iou(macro): 0.4033, training iou(micro): 0.8039\n",
            "validation loss: 0.6090, validation iou(macro): 0.2092, validation iou(micro): 0.7171\n",
            "epoch : 57\n",
            "training loss: 0.3312, training iou(macro): 0.4087, training iou(micro): 0.8117\n",
            "validation loss: 0.6106, validation iou(macro): 0.1764, validation iou(micro): 0.7157\n",
            "epoch : 58\n",
            "training loss: 0.3263, training iou(macro): 0.4392, training iou(micro): 0.8121\n",
            "validation loss: 0.5945, validation iou(macro): 0.1973, validation iou(micro): 0.7181\n",
            "epoch : 59\n",
            "training loss: 0.3181, training iou(macro): 0.4420, training iou(micro): 0.8155\n",
            "validation loss: 0.6432, validation iou(macro): 0.2055, validation iou(micro): 0.7182\n",
            "epoch : 60\n",
            "training loss: 0.3134, training iou(macro): 0.4524, training iou(micro): 0.8181\n",
            "validation loss: 0.6933, validation iou(macro): 0.2035, validation iou(micro): 0.7140\n",
            "epoch : 61\n",
            "training loss: 0.3114, training iou(macro): 0.4277, training iou(micro): 0.8199\n",
            "validation loss: 0.6939, validation iou(macro): 0.1995, validation iou(micro): 0.7150\n",
            "epoch : 62\n",
            "training loss: 0.3049, training iou(macro): 0.4086, training iou(micro): 0.8220\n",
            "validation loss: 0.6216, validation iou(macro): 0.2070, validation iou(micro): 0.7183\n",
            "epoch : 63\n",
            "training loss: 0.2976, training iou(macro): 0.4557, training iou(micro): 0.8266\n",
            "validation loss: 0.6152, validation iou(macro): 0.2060, validation iou(micro): 0.7220\n",
            "epoch : 64\n",
            "training loss: 0.2982, training iou(macro): 0.4708, training iou(micro): 0.8255\n",
            "validation loss: 0.5926, validation iou(macro): 0.2113, validation iou(micro): 0.7251\n",
            "epoch : 65\n",
            "training loss: 0.2882, training iou(macro): 0.4611, training iou(micro): 0.8321\n",
            "validation loss: 0.6039, validation iou(macro): 0.1965, validation iou(micro): 0.7237\n",
            "epoch : 66\n",
            "training loss: 0.2835, training iou(macro): 0.4307, training iou(micro): 0.8323\n",
            "validation loss: 0.6233, validation iou(macro): 0.2125, validation iou(micro): 0.7113\n",
            "epoch : 67\n",
            "training loss: 0.2882, training iou(macro): 0.4224, training iou(micro): 0.8311\n",
            "validation loss: 0.6006, validation iou(macro): 0.2156, validation iou(micro): 0.7133\n",
            "epoch : 68\n",
            "training loss: 0.2885, training iou(macro): 0.4414, training iou(micro): 0.8296\n",
            "validation loss: 0.6041, validation iou(macro): 0.2030, validation iou(micro): 0.7127\n",
            "epoch : 69\n",
            "training loss: 0.2952, training iou(macro): 0.4250, training iou(micro): 0.8283\n",
            "validation loss: 0.6600, validation iou(macro): 0.1928, validation iou(micro): 0.7046\n",
            "epoch : 70\n",
            "training loss: 0.3094, training iou(macro): 0.4792, training iou(micro): 0.8232\n",
            "validation loss: 0.6384, validation iou(macro): 0.1992, validation iou(micro): 0.7030\n",
            "epoch : 71\n",
            "training loss: 0.3024, training iou(macro): 0.4598, training iou(micro): 0.8256\n",
            "validation loss: 0.6904, validation iou(macro): 0.2010, validation iou(micro): 0.6914\n",
            "epoch : 72\n",
            "training loss: 0.2993, training iou(macro): 0.4497, training iou(micro): 0.8278\n",
            "validation loss: 0.6378, validation iou(macro): 0.2002, validation iou(micro): 0.7058\n",
            "epoch : 73\n",
            "training loss: 0.3062, training iou(macro): 0.4164, training iou(micro): 0.8223\n",
            "validation loss: 0.5596, validation iou(macro): 0.2315, validation iou(micro): 0.7277\n",
            "epoch : 74\n",
            "training loss: 0.3037, training iou(macro): 0.4750, training iou(micro): 0.8239\n",
            "validation loss: 0.5906, validation iou(macro): 0.2178, validation iou(micro): 0.7273\n",
            "epoch : 75\n",
            "training loss: 0.2996, training iou(macro): 0.4721, training iou(micro): 0.8241\n",
            "validation loss: 0.6657, validation iou(macro): 0.2106, validation iou(micro): 0.7205\n",
            "epoch : 76\n",
            "training loss: 0.2970, training iou(macro): 0.4858, training iou(micro): 0.8252\n",
            "validation loss: 0.6078, validation iou(macro): 0.2208, validation iou(micro): 0.7224\n",
            "epoch : 77\n",
            "training loss: 0.2937, training iou(macro): 0.5043, training iou(micro): 0.8241\n",
            "validation loss: 0.6914, validation iou(macro): 0.2127, validation iou(micro): 0.7045\n",
            "epoch : 78\n",
            "training loss: 0.2921, training iou(macro): 0.4858, training iou(micro): 0.8257\n",
            "validation loss: 0.6605, validation iou(macro): 0.2119, validation iou(micro): 0.7034\n",
            "epoch : 79\n",
            "training loss: 0.2916, training iou(macro): 0.4841, training iou(micro): 0.8269\n",
            "validation loss: 0.6240, validation iou(macro): 0.2121, validation iou(micro): 0.7117\n",
            "epoch : 80\n",
            "training loss: 0.2891, training iou(macro): 0.4528, training iou(micro): 0.8278\n",
            "validation loss: 0.6356, validation iou(macro): 0.2071, validation iou(micro): 0.7036\n",
            "epoch : 81\n",
            "training loss: 0.2804, training iou(macro): 0.4515, training iou(micro): 0.8324\n",
            "validation loss: 0.6657, validation iou(macro): 0.2067, validation iou(micro): 0.7083\n",
            "epoch : 82\n",
            "training loss: 0.2717, training iou(macro): 0.5148, training iou(micro): 0.8374\n",
            "validation loss: 0.6300, validation iou(macro): 0.2087, validation iou(micro): 0.7123\n",
            "epoch : 83\n",
            "training loss: 0.2664, training iou(macro): 0.5007, training iou(micro): 0.8413\n",
            "validation loss: 0.6454, validation iou(macro): 0.2059, validation iou(micro): 0.7237\n",
            "epoch : 84\n",
            "training loss: 0.2666, training iou(macro): 0.5239, training iou(micro): 0.8448\n",
            "validation loss: 0.7317, validation iou(macro): 0.2035, validation iou(micro): 0.7268\n",
            "epoch : 85\n",
            "training loss: 0.2719, training iou(macro): 0.5151, training iou(micro): 0.8416\n",
            "validation loss: 0.7241, validation iou(macro): 0.2258, validation iou(micro): 0.7276\n",
            "epoch : 86\n",
            "training loss: 0.2657, training iou(macro): 0.5224, training iou(micro): 0.8409\n",
            "validation loss: 0.7226, validation iou(macro): 0.2356, validation iou(micro): 0.7384\n",
            "epoch : 87\n",
            "training loss: 0.2675, training iou(macro): 0.5177, training iou(micro): 0.8402\n",
            "validation loss: 0.7214, validation iou(macro): 0.2249, validation iou(micro): 0.7335\n"
          ],
          "name": "stdout"
        },
        {
          "output_type": "error",
          "ename": "KeyboardInterrupt",
          "evalue": "ignored",
          "traceback": [
            "\u001b[0;31m---------------------------------------------------------------------------\u001b[0m",
            "\u001b[0;31mKeyboardInterrupt\u001b[0m                         Traceback (most recent call last)",
            "\u001b[0;32m<ipython-input-13-9df909d363ac>\u001b[0m in \u001b[0;36m<module>\u001b[0;34m()\u001b[0m\n\u001b[1;32m     23\u001b[0m         \u001b[0mloss\u001b[0m\u001b[0;34m.\u001b[0m\u001b[0mbackward\u001b[0m\u001b[0;34m(\u001b[0m\u001b[0;34m)\u001b[0m\u001b[0;34m\u001b[0m\u001b[0;34m\u001b[0m\u001b[0m\n\u001b[1;32m     24\u001b[0m         \u001b[0moptimizer\u001b[0m\u001b[0;34m.\u001b[0m\u001b[0mstep\u001b[0m\u001b[0;34m(\u001b[0m\u001b[0;34m)\u001b[0m\u001b[0;34m\u001b[0m\u001b[0;34m\u001b[0m\u001b[0m\n\u001b[0;32m---> 25\u001b[0;31m         \u001b[0mrunning_loss\u001b[0m \u001b[0;34m+=\u001b[0m \u001b[0mloss\u001b[0m\u001b[0;34m.\u001b[0m\u001b[0mitem\u001b[0m\u001b[0;34m(\u001b[0m\u001b[0;34m)\u001b[0m\u001b[0;34m\u001b[0m\u001b[0;34m\u001b[0m\u001b[0m\n\u001b[0m\u001b[1;32m     26\u001b[0m         \u001b[0m_\u001b[0m\u001b[0;34m,\u001b[0m\u001b[0mpreds\u001b[0m \u001b[0;34m=\u001b[0m \u001b[0mtorch\u001b[0m\u001b[0;34m.\u001b[0m\u001b[0mmax\u001b[0m\u001b[0;34m(\u001b[0m\u001b[0moutputs\u001b[0m\u001b[0;34m,\u001b[0m \u001b[0mdim\u001b[0m \u001b[0;34m=\u001b[0m \u001b[0;36m1\u001b[0m\u001b[0;34m)\u001b[0m\u001b[0;34m\u001b[0m\u001b[0;34m\u001b[0m\u001b[0m\n\u001b[1;32m     27\u001b[0m         \u001b[0mpredlist\u001b[0m\u001b[0;34m=\u001b[0m\u001b[0mtorch\u001b[0m\u001b[0;34m.\u001b[0m\u001b[0mcat\u001b[0m\u001b[0;34m(\u001b[0m\u001b[0;34m[\u001b[0m\u001b[0mpredlist\u001b[0m\u001b[0;34m,\u001b[0m\u001b[0mpreds\u001b[0m\u001b[0;34m.\u001b[0m\u001b[0mview\u001b[0m\u001b[0;34m(\u001b[0m\u001b[0;34m-\u001b[0m\u001b[0;36m1\u001b[0m\u001b[0;34m)\u001b[0m\u001b[0;34m.\u001b[0m\u001b[0mcpu\u001b[0m\u001b[0;34m(\u001b[0m\u001b[0;34m)\u001b[0m\u001b[0;34m]\u001b[0m\u001b[0;34m)\u001b[0m\u001b[0;34m\u001b[0m\u001b[0;34m\u001b[0m\u001b[0m\n",
            "\u001b[0;31mKeyboardInterrupt\u001b[0m: "
          ]
        }
      ]
    },
    {
      "cell_type": "code",
      "metadata": {
        "id": "9ONHqdSwok0_",
        "outputId": "9ac75fa4-e0dd-4a2a-dbbe-70f59f220e7b",
        "colab": {
          "base_uri": "https://localhost:8080/",
          "height": 283
        }
      },
      "source": [
        "plt.style.use('ggplot')\n",
        "plt.plot(running_loss_history, label='training loss')\n",
        "plt.plot(val_running_loss_history, label='validation loss')\n",
        "plt.legend()"
      ],
      "execution_count": 14,
      "outputs": [
        {
          "output_type": "execute_result",
          "data": {
            "text/plain": [
              "<matplotlib.legend.Legend at 0x7fcdae2e0668>"
            ]
          },
          "metadata": {
            "tags": []
          },
          "execution_count": 14
        },
        {
          "output_type": "display_data",
          "data": {
            "image/png": "[encoded data removed]",
            "text/plain": [
              "<Figure size 432x288 with 1 Axes>"
            ]
          },
          "metadata": {
            "tags": []
          }
        }
      ]
    },
    {
      "cell_type": "code",
      "metadata": {
        "id": "IzuKIAD6T686"
      },
      "source": [
        "model = FCN16()\n",
        "model.load_state_dict(torch.load('/content/best_model_fcn16.pth.tar'))\n",
        "model.to(device)\n",
        "model.eval()"
      ],
      "execution_count": null,
      "outputs": []
    },
    {
      "cell_type": "code",
      "metadata": {
        "id": "gluxmuKdxYpX",
        "outputId": "748264b5-a41d-4a8b-b459-830587c4fbb5",
        "colab": {
          "base_uri": "https://localhost:8080/",
          "height": 222
        }
      },
      "source": [
        "plt.style.use('ggplot')\n",
        "plt.plot(iou_val_macro_list, label=' training')\n",
        "plt.plot(iou_val_micro_list, label='validation')\n",
        "plt.legend()"
      ],
      "execution_count": 1,
      "outputs": [
        {
          "output_type": "error",
          "ename": "NameError",
          "evalue": "ignored",
          "traceback": [
            "\u001b[0;31m---------------------------------------------------------------------------\u001b[0m",
            "\u001b[0;31mNameError\u001b[0m                                 Traceback (most recent call last)",
            "\u001b[0;32m<ipython-input-1-4cd6674fab47>\u001b[0m in \u001b[0;36m<module>\u001b[0;34m()\u001b[0m\n\u001b[0;32m----> 1\u001b[0;31m \u001b[0mplt\u001b[0m\u001b[0;34m.\u001b[0m\u001b[0mstyle\u001b[0m\u001b[0;34m.\u001b[0m\u001b[0muse\u001b[0m\u001b[0;34m(\u001b[0m\u001b[0;34m'ggplot'\u001b[0m\u001b[0;34m)\u001b[0m\u001b[0;34m\u001b[0m\u001b[0;34m\u001b[0m\u001b[0m\n\u001b[0m\u001b[1;32m      2\u001b[0m \u001b[0mplt\u001b[0m\u001b[0;34m.\u001b[0m\u001b[0mplot\u001b[0m\u001b[0;34m(\u001b[0m\u001b[0miou_val_macro_list\u001b[0m\u001b[0;34m,\u001b[0m \u001b[0mlabel\u001b[0m\u001b[0;34m=\u001b[0m\u001b[0;34m' training'\u001b[0m\u001b[0;34m)\u001b[0m\u001b[0;34m\u001b[0m\u001b[0;34m\u001b[0m\u001b[0m\n\u001b[1;32m      3\u001b[0m \u001b[0mplt\u001b[0m\u001b[0;34m.\u001b[0m\u001b[0mplot\u001b[0m\u001b[0;34m(\u001b[0m\u001b[0miou_val_micro_list\u001b[0m\u001b[0;34m,\u001b[0m \u001b[0mlabel\u001b[0m\u001b[0;34m=\u001b[0m\u001b[0;34m'validation'\u001b[0m\u001b[0;34m)\u001b[0m\u001b[0;34m\u001b[0m\u001b[0;34m\u001b[0m\u001b[0m\n\u001b[1;32m      4\u001b[0m \u001b[0mplt\u001b[0m\u001b[0;34m.\u001b[0m\u001b[0mlegend\u001b[0m\u001b[0;34m(\u001b[0m\u001b[0;34m)\u001b[0m\u001b[0;34m\u001b[0m\u001b[0;34m\u001b[0m\u001b[0m\n",
            "\u001b[0;31mNameError\u001b[0m: name 'plt' is not defined"
          ]
        }
      ]
    },
    {
      "cell_type": "code",
      "metadata": {
        "id": "QcUuB3YOoH6X",
        "outputId": "fc1162e5-d826-4208-daec-a83abf43ccc5",
        "colab": {
          "base_uri": "https://localhost:8080/"
        }
      },
      "source": [
        "test_running_corrects = 0.0\n",
        "predlist=torch.zeros(0,dtype=torch.long, device='cpu')\n",
        "labellist=torch.zeros(0,dtype=torch.long, device='cpu')\n",
        "\n",
        "with torch.no_grad(): # we do not need gradient for validation.\n",
        "      for test_inputs, test_labels in test_loader:\n",
        "        test_inputs = test_inputs.to(device)\n",
        "        test_labels = test_labels.to(device)\n",
        "        test_outputs = model(test_inputs)\n",
        "        _, test_preds = torch.max(test_outputs, 1)\n",
        "        predlist=torch.cat([predlist,test_preds.view(-1).cpu()])\n",
        "        labellist=torch.cat([labellist,test_labels.view(-1).cpu()])\n",
        "        test_running_corrects += torch.sum(test_preds == test_labels[:,0].data)\n",
        "\n",
        "\n",
        "test_acc = test_running_corrects.float()/ (len(test_loader)*1024*256)\n",
        "print('test acc {:.4f} '.format(test_acc))"
      ],
      "execution_count": 12,
      "outputs": [
        {
          "output_type": "stream",
          "text": [
            "test acc 0.8967 \n"
          ],
          "name": "stdout"
        }
      ]
    },
    {
      "cell_type": "code",
      "metadata": {
        "id": "Us1XO06V3d_g",
        "outputId": "a90ba4cc-463e-4c9d-974f-d2b5cec8f337",
        "colab": {
          "base_uri": "https://localhost:8080/"
        }
      },
      "source": [
        "from sklearn.metrics import jaccard_score as jsc\n",
        "\n",
        "lbl = predlist.cpu().numpy().reshape(-1)\n",
        "target = labellist.cpu().numpy().reshape(-1)\n",
        "print(jsc(target, lbl, average = 'micro' ))"
      ],
      "execution_count": 13,
      "outputs": [
        {
          "output_type": "stream",
          "text": [
            "0.8127490728594515\n"
          ],
          "name": "stdout"
        }
      ]
    },
    {
      "cell_type": "code",
      "metadata": {
        "id": "JcJdrULNVwl1",
        "outputId": "3a34a3bb-90bb-4ff2-c056-77bd868bb63a",
        "colab": {
          "base_uri": "https://localhost:8080/"
        }
      },
      "source": [
        "final_data = torch.utils.data.DataLoader(train_data, batch_size=1, shuffle=False)\n",
        "test_running_corrects = 0.0\n",
        "predlist=torch.zeros(0,dtype=torch.long, device='cpu')\n",
        "labellist=torch.zeros(0,dtype=torch.long, device='cpu')\n",
        "i = 0\n",
        "j = 115\n",
        "with torch.no_grad(): # we do not need gradient for validation.\n",
        "      for test_inputs, test_labels in final_data:\n",
        "        if i == j:\n",
        "          test_inputs = test_inputs.to(device)\n",
        "          test_labels = test_labels.to(device)\n",
        "          test_outputs = model(test_inputs)\n",
        "          _, test_preds = torch.max(test_outputs, 1)\n",
        "          predlist=torch.cat([predlist,test_preds.view(-1).cpu()])\n",
        "          labellist=torch.cat([labellist,test_labels.view(-1).cpu()])\n",
        "          test_running_corrects += torch.sum(test_preds == test_labels[:,0].data)\n",
        "          break\n",
        "        else:\n",
        "          i = i+1\n",
        "        \n",
        "\n",
        "test_acc = test_running_corrects.float()/(256*1024)\n",
        "print('test acc {:.4f} '.format(test_acc))"
      ],
      "execution_count": 14,
      "outputs": [
        {
          "output_type": "stream",
          "text": [
            "test acc 0.8618 \n"
          ],
          "name": "stdout"
        }
      ]
    },
    {
      "cell_type": "code",
      "metadata": {
        "id": "ED58aELo3Ljt"
      },
      "source": [
        ""
      ],
      "execution_count": null,
      "outputs": []
    },
    {
      "cell_type": "code",
      "metadata": {
        "id": "6sOVSIp13Sl-"
      },
      "source": [
        "# from collections import defaultdict\n",
        "# d = defaultdict(set)\n",
        "# L = id_labels.labels\n",
        "# for i in range(len(L)):\n",
        "#   d[L[i][1]] = L[i][-1]\n",
        "\n"
      ],
      "execution_count": null,
      "outputs": []
    },
    {
      "cell_type": "code",
      "metadata": {
        "id": "AMVrFPPyJTA7"
      },
      "source": [
        "#import labels\n",
        "from collections import  defaultdict\n",
        "d = defaultdict(set,\n",
        "            {-1: (0, 0, 142),\n",
        "             0: (0, 0, 0),\n",
        "             1: (0, 0, 0),\n",
        "             2: (0, 0, 0),\n",
        "             3: (0, 0, 0),\n",
        "             4: (0, 0, 0),\n",
        "             5: (111, 74, 0),\n",
        "             6: (81, 0, 81),\n",
        "             7: (128, 64, 128),\n",
        "             8: (244, 35, 232),\n",
        "             9: (250, 170, 160),\n",
        "             10: (230, 150, 140),\n",
        "             11: (70, 70, 70),\n",
        "             12: (102, 102, 156),\n",
        "             13: (190, 153, 153),\n",
        "             14: (180, 165, 180),\n",
        "             15: (150, 100, 100),\n",
        "             16: (150, 120, 90),\n",
        "             17: (153, 153, 153),\n",
        "             18: (153, 153, 153),\n",
        "             19: (250, 170, 30),\n",
        "             20: (220, 220, 0),\n",
        "             21: (107, 142, 35),\n",
        "             22: (152, 251, 152),\n",
        "             23: (70, 130, 180),\n",
        "             24: (220, 20, 60),\n",
        "             25: (255, 0, 0),\n",
        "             26: (0, 0, 142),\n",
        "             27: (0, 0, 70),\n",
        "             28: (0, 60, 100),\n",
        "             29: (0, 0, 90),\n",
        "             30: (0, 0, 110),\n",
        "             31: (0, 80, 100),\n",
        "             32: (0, 0, 230),\n",
        "             33: (119, 11, 32)})"
      ],
      "execution_count": 15,
      "outputs": []
    },
    {
      "cell_type": "code",
      "metadata": {
        "id": "wjd76iDV3l7L",
        "outputId": "835afd50-25b6-4525-b0ec-b69d13664c33",
        "colab": {
          "base_uri": "https://localhost:8080/"
        }
      },
      "source": [
        "for img,lab in training_loader:\n",
        "  print(img.size())\n",
        "  break"
      ],
      "execution_count": 16,
      "outputs": [
        {
          "output_type": "stream",
          "text": [
            "torch.Size([1, 3, 256, 1024])\n"
          ],
          "name": "stdout"
        }
      ]
    },
    {
      "cell_type": "code",
      "metadata": {
        "id": "K5ka_9aR_Tcy",
        "outputId": "58d61729-a9b3-4a3e-9eb7-0702403ab150",
        "colab": {
          "base_uri": "https://localhost:8080/"
        }
      },
      "source": [
        "d"
      ],
      "execution_count": 17,
      "outputs": [
        {
          "output_type": "execute_result",
          "data": {
            "text/plain": [
              "defaultdict(set,\n",
              "            {-1: (0, 0, 142),\n",
              "             0: (0, 0, 0),\n",
              "             1: (0, 0, 0),\n",
              "             2: (0, 0, 0),\n",
              "             3: (0, 0, 0),\n",
              "             4: (0, 0, 0),\n",
              "             5: (111, 74, 0),\n",
              "             6: (81, 0, 81),\n",
              "             7: (128, 64, 128),\n",
              "             8: (244, 35, 232),\n",
              "             9: (250, 170, 160),\n",
              "             10: (230, 150, 140),\n",
              "             11: (70, 70, 70),\n",
              "             12: (102, 102, 156),\n",
              "             13: (190, 153, 153),\n",
              "             14: (180, 165, 180),\n",
              "             15: (150, 100, 100),\n",
              "             16: (150, 120, 90),\n",
              "             17: (153, 153, 153),\n",
              "             18: (153, 153, 153),\n",
              "             19: (250, 170, 30),\n",
              "             20: (220, 220, 0),\n",
              "             21: (107, 142, 35),\n",
              "             22: (152, 251, 152),\n",
              "             23: (70, 130, 180),\n",
              "             24: (220, 20, 60),\n",
              "             25: (255, 0, 0),\n",
              "             26: (0, 0, 142),\n",
              "             27: (0, 0, 70),\n",
              "             28: (0, 60, 100),\n",
              "             29: (0, 0, 90),\n",
              "             30: (0, 0, 110),\n",
              "             31: (0, 80, 100),\n",
              "             32: (0, 0, 230),\n",
              "             33: (119, 11, 32)})"
            ]
          },
          "metadata": {
            "tags": []
          },
          "execution_count": 17
        }
      ]
    },
    {
      "cell_type": "code",
      "metadata": {
        "id": "ZOkSeoki_UBd",
        "outputId": "4c1a2cf0-7e85-4731-c71f-a9c29d61df91",
        "colab": {
          "base_uri": "https://localhost:8080/"
        }
      },
      "source": [
        "test_preds.size()"
      ],
      "execution_count": 18,
      "outputs": [
        {
          "output_type": "execute_result",
          "data": {
            "text/plain": [
              "torch.Size([1, 256, 1024])"
            ]
          },
          "metadata": {
            "tags": []
          },
          "execution_count": 18
        }
      ]
    },
    {
      "cell_type": "code",
      "metadata": {
        "id": "sDG5GIZa_1O-",
        "outputId": "b424ddec-86cc-4669-c9ef-2dde718a7914",
        "colab": {
          "base_uri": "https://localhost:8080/"
        }
      },
      "source": [
        "predictions = test_preds.cpu().numpy()\n",
        "predictions.shape"
      ],
      "execution_count": 19,
      "outputs": [
        {
          "output_type": "execute_result",
          "data": {
            "text/plain": [
              "(1, 256, 1024)"
            ]
          },
          "metadata": {
            "tags": []
          },
          "execution_count": 19
        }
      ]
    },
    {
      "cell_type": "code",
      "metadata": {
        "id": "4ZQtUutwYJHr"
      },
      "source": [
        "lst = []\n",
        "p = predictions[0,:]\n",
        "for i in range(len(p)):\n",
        "  for j in range(len(p[i])):\n",
        "    lst.append((d[p[i][j]]))\n"
      ],
      "execution_count": 20,
      "outputs": []
    },
    {
      "cell_type": "code",
      "metadata": {
        "id": "maU_bpOpYKbc"
      },
      "source": [
        "arr = np.array(lst)"
      ],
      "execution_count": 21,
      "outputs": []
    },
    {
      "cell_type": "code",
      "metadata": {
        "id": "bBsYe35nhlP3",
        "outputId": "50df87e4-5ca6-42fd-b697-e21000a27a6d",
        "colab": {
          "base_uri": "https://localhost:8080/"
        }
      },
      "source": [
        "arr.shape"
      ],
      "execution_count": 22,
      "outputs": [
        {
          "output_type": "execute_result",
          "data": {
            "text/plain": [
              "(262144, 3)"
            ]
          },
          "metadata": {
            "tags": []
          },
          "execution_count": 22
        }
      ]
    },
    {
      "cell_type": "code",
      "metadata": {
        "id": "FP_oztggiDs-"
      },
      "source": [
        "arr = np.reshape(arr,[256,1024,3])"
      ],
      "execution_count": 23,
      "outputs": []
    },
    {
      "cell_type": "code",
      "metadata": {
        "id": "bI5N5tDZiK5U",
        "outputId": "6140c499-c66c-4817-e12d-abe6ae41f1f2",
        "colab": {
          "base_uri": "https://localhost:8080/"
        }
      },
      "source": [
        "p"
      ],
      "execution_count": 24,
      "outputs": [
        {
          "output_type": "execute_result",
          "data": {
            "text/plain": [
              "array([[23, 23, 23, ..., 23, 23, 23],\n",
              "       [23, 23, 23, ..., 23, 23, 23],\n",
              "       [23, 23, 23, ..., 23, 23, 23],\n",
              "       ...,\n",
              "       [ 7,  7,  7, ..., 26, 26, 26],\n",
              "       [ 7,  7,  7, ..., 26, 26, 26],\n",
              "       [ 7,  7,  7, ..., 26, 26, 26]])"
            ]
          },
          "metadata": {
            "tags": []
          },
          "execution_count": 24
        }
      ]
    },
    {
      "cell_type": "code",
      "metadata": {
        "id": "y-YELv3jiOX1",
        "outputId": "838baf70-a08c-498f-d424-1fedce310137",
        "colab": {
          "base_uri": "https://localhost:8080/"
        }
      },
      "source": [
        "arr"
      ],
      "execution_count": 46,
      "outputs": [
        {
          "output_type": "execute_result",
          "data": {
            "text/plain": [
              "array([[[ 70, 130, 180],\n",
              "        [ 70, 130, 180],\n",
              "        [ 70, 130, 180],\n",
              "        ...,\n",
              "        [ 70, 130, 180],\n",
              "        [ 70, 130, 180],\n",
              "        [ 70, 130, 180]],\n",
              "\n",
              "       [[ 70, 130, 180],\n",
              "        [ 70, 130, 180],\n",
              "        [ 70, 130, 180],\n",
              "        ...,\n",
              "        [ 70, 130, 180],\n",
              "        [ 70, 130, 180],\n",
              "        [ 70, 130, 180]],\n",
              "\n",
              "       [[ 70, 130, 180],\n",
              "        [ 70, 130, 180],\n",
              "        [ 70, 130, 180],\n",
              "        ...,\n",
              "        [ 70, 130, 180],\n",
              "        [ 70, 130, 180],\n",
              "        [ 70, 130, 180]],\n",
              "\n",
              "       ...,\n",
              "\n",
              "       [[128,  64, 128],\n",
              "        [128,  64, 128],\n",
              "        [128,  64, 128],\n",
              "        ...,\n",
              "        [  0,   0, 142],\n",
              "        [  0,   0, 142],\n",
              "        [  0,   0, 142]],\n",
              "\n",
              "       [[128,  64, 128],\n",
              "        [128,  64, 128],\n",
              "        [128,  64, 128],\n",
              "        ...,\n",
              "        [  0,   0, 142],\n",
              "        [  0,   0, 142],\n",
              "        [  0,   0, 142]],\n",
              "\n",
              "       [[128,  64, 128],\n",
              "        [128,  64, 128],\n",
              "        [128,  64, 128],\n",
              "        ...,\n",
              "        [  0,   0, 142],\n",
              "        [  0,   0, 142],\n",
              "        [  0,   0, 142]]])"
            ]
          },
          "metadata": {
            "tags": []
          },
          "execution_count": 46
        }
      ]
    },
    {
      "cell_type": "code",
      "metadata": {
        "id": "u8f64DogiPep"
      },
      "source": [
        "g = np.zeros([256,1024,3])\n",
        "for i in range(len(arr)):\n",
        "  for j in range(len(arr[i])):\n",
        "    for k in range(len(arr[i][j])):\n",
        "      g[i][j][k] = arr[i][j][k]/255.0"
      ],
      "execution_count": 25,
      "outputs": []
    },
    {
      "cell_type": "code",
      "metadata": {
        "id": "qBvQevchlAFJ",
        "outputId": "278a4065-c48c-4440-cae3-227841fb6f0c",
        "colab": {
          "base_uri": "https://localhost:8080/"
        }
      },
      "source": [
        "g"
      ],
      "execution_count": 48,
      "outputs": [
        {
          "output_type": "execute_result",
          "data": {
            "text/plain": [
              "array([[[0.2745098 , 0.50980392, 0.70588235],\n",
              "        [0.2745098 , 0.50980392, 0.70588235],\n",
              "        [0.2745098 , 0.50980392, 0.70588235],\n",
              "        ...,\n",
              "        [0.2745098 , 0.50980392, 0.70588235],\n",
              "        [0.2745098 , 0.50980392, 0.70588235],\n",
              "        [0.2745098 , 0.50980392, 0.70588235]],\n",
              "\n",
              "       [[0.2745098 , 0.50980392, 0.70588235],\n",
              "        [0.2745098 , 0.50980392, 0.70588235],\n",
              "        [0.2745098 , 0.50980392, 0.70588235],\n",
              "        ...,\n",
              "        [0.2745098 , 0.50980392, 0.70588235],\n",
              "        [0.2745098 , 0.50980392, 0.70588235],\n",
              "        [0.2745098 , 0.50980392, 0.70588235]],\n",
              "\n",
              "       [[0.2745098 , 0.50980392, 0.70588235],\n",
              "        [0.2745098 , 0.50980392, 0.70588235],\n",
              "        [0.2745098 , 0.50980392, 0.70588235],\n",
              "        ...,\n",
              "        [0.2745098 , 0.50980392, 0.70588235],\n",
              "        [0.2745098 , 0.50980392, 0.70588235],\n",
              "        [0.2745098 , 0.50980392, 0.70588235]],\n",
              "\n",
              "       ...,\n",
              "\n",
              "       [[0.50196078, 0.25098039, 0.50196078],\n",
              "        [0.50196078, 0.25098039, 0.50196078],\n",
              "        [0.50196078, 0.25098039, 0.50196078],\n",
              "        ...,\n",
              "        [0.        , 0.        , 0.55686275],\n",
              "        [0.        , 0.        , 0.55686275],\n",
              "        [0.        , 0.        , 0.55686275]],\n",
              "\n",
              "       [[0.50196078, 0.25098039, 0.50196078],\n",
              "        [0.50196078, 0.25098039, 0.50196078],\n",
              "        [0.50196078, 0.25098039, 0.50196078],\n",
              "        ...,\n",
              "        [0.        , 0.        , 0.55686275],\n",
              "        [0.        , 0.        , 0.55686275],\n",
              "        [0.        , 0.        , 0.55686275]],\n",
              "\n",
              "       [[0.50196078, 0.25098039, 0.50196078],\n",
              "        [0.50196078, 0.25098039, 0.50196078],\n",
              "        [0.50196078, 0.25098039, 0.50196078],\n",
              "        ...,\n",
              "        [0.        , 0.        , 0.55686275],\n",
              "        [0.        , 0.        , 0.55686275],\n",
              "        [0.        , 0.        , 0.55686275]]])"
            ]
          },
          "metadata": {
            "tags": []
          },
          "execution_count": 48
        }
      ]
    },
    {
      "cell_type": "code",
      "metadata": {
        "id": "clOzcCbjmC80",
        "outputId": "8da0c48f-67b4-4235-bed4-a135757e96c1",
        "colab": {
          "base_uri": "https://localhost:8080/"
        }
      },
      "source": [
        "import cv2\n",
        "cv2.imwrite('color_img.jpg',arr)\n",
        "c = cv2.imread('color_img.jpg', 1)\n",
        "c = cv2.cvtColor(c, cv2.COLOR_BGR2RGB)\n",
        "cv2.imwrite('Final_img.jpg', c)"
      ],
      "execution_count": 26,
      "outputs": [
        {
          "output_type": "execute_result",
          "data": {
            "text/plain": [
              "True"
            ]
          },
          "metadata": {
            "tags": []
          },
          "execution_count": 26
        }
      ]
    },
    {
      "cell_type": "code",
      "metadata": {
        "id": "9qRTyDcH86hZ"
      },
      "source": [
        "torch.save(model, \"./drive/My Drive/hw5/entire_model_fcn32_final.pt\")"
      ],
      "execution_count": 35,
      "outputs": []
    },
    {
      "cell_type": "code",
      "metadata": {
        "id": "xxi4Y5y088k4"
      },
      "source": [
        "model = torch.load('./drive/My Drive/hw5/entire_model_fcn32_final.pt')"
      ],
      "execution_count": 11,
      "outputs": []
    },
    {
      "cell_type": "code",
      "metadata": {
        "id": "4WF-dG2dGeDC"
      },
      "source": [
        "model.eval()"
      ],
      "execution_count": null,
      "outputs": []
    },
    {
      "cell_type": "code",
      "metadata": {
        "id": "W9l3vvZVGk1k"
      },
      "source": [
        ""
      ],
      "execution_count": null,
      "outputs": []
    },
    {
      "cell_type": "code",
      "metadata": {
        "id": "6WTyqkNxG5oX"
      },
      "source": [
        ""
      ],
      "execution_count": null,
      "outputs": []
    },
    {
      "cell_type": "code",
      "metadata": {
        "id": "PC-dUZS-G7e7"
      },
      "source": [
        "t = test_preds.cpu().numpy()"
      ],
      "execution_count": null,
      "outputs": []
    },
    {
      "cell_type": "code",
      "metadata": {
        "id": "KcU5zAFwINpN"
      },
      "source": [
        ""
      ],
      "execution_count": null,
      "outputs": []
    },
    {
      "cell_type": "code",
      "metadata": {
        "id": "6RGmxxDEIiYp"
      },
      "source": [
        ""
      ],
      "execution_count": null,
      "outputs": []
    }
  ]
}